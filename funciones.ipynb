{
  "nbformat": 4,
  "nbformat_minor": 0,
  "metadata": {
    "colab": {
      "provenance": []
    },
    "kernelspec": {
      "name": "python3",
      "display_name": "Python 3"
    },
    "language_info": {
      "name": "python"
    }
  },
  "cells": [
    {
      "cell_type": "code",
      "source": [
        "import pandas as pd\n",
        "\"\"\" @Description: Funcion que elimina las columnas con un unico valor de un dataframe y devuelve su resultado.\n",
        "    @Params:\n",
        "        -df: Datafrae de entrada\n",
        "    @Output: Dataframe con las columnas que no tienen un valor único.\n",
        "\"\"\"\n",
        "def eliminar_cols_uniques(df):\n",
        "  if df is None:\n",
        "    print(\"Error: El DataFrame es None.\")\n",
        "    return None\n",
        "  print(df.shape)\n",
        "  # get number of unique values for each column\n",
        "  counts = df.nunique()\n",
        "  print(counts)\n",
        "\t# record columns to delete\n",
        "  to_del = [i for i, v in enumerate(counts) if v == 1]\n",
        "\t#print(to_del)\n",
        "  # drop useless columns\n",
        "  df = df.drop(to_del, axis=1)\n",
        "  print(df.shape)\n",
        "  return df"
      ],
      "metadata": {
        "id": "2N814Cr261wT"
      },
      "execution_count": 7,
      "outputs": []
    },
    {
      "cell_type": "code",
      "source": [
        "#Código para ejecutar este notebook en otro notebook\n",
        "%run functiones.ipynb"
      ],
      "metadata": {
        "id": "hTvkahAJ8QsV"
      },
      "execution_count": null,
      "outputs": []
    },
    {
      "cell_type": "code",
      "source": [
        "data = pd.read_csv('oil-spill.csv', header=None)\n",
        "result_df = eliminar_cols_uniques(data)"
      ],
      "metadata": {
        "id": "_CLj8o2t8WgD"
      },
      "execution_count": null,
      "outputs": []
    }
  ]
}